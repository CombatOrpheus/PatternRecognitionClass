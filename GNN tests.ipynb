{
 "cells": [
  {
   "cell_type": "code",
   "execution_count": 1,
   "id": "24d8eb8e-c0d0-4a95-9f5d-aab9dde8e6ff",
   "metadata": {},
   "outputs": [
    {
     "name": "stdout",
     "output_type": "stream",
     "text": [
      "CPU times: user 1.79 s, sys: 1.01 s, total: 2.81 s\n",
      "Wall time: 2.05 s\n"
     ]
    }
   ],
   "source": [
    "%%time\n",
    "import src\n",
    "from pathlib import Path\n",
    "from tqdm.notebook import trange\n",
    "from src import Petri_Cheb_GNN, Petri_GCN\n",
    "\n",
    "batch_size = 32\n",
    "train_dataset = src.get_reachability_dataset(Path('Data/RandData_DS2_train_data.processed'), batch_size=batch_size)\n",
    "test_dataset = src.get_reachability_dataset(Path('Data/RandData_DS2_test_data.processed'), batch_size=batch_size)"
   ]
  },
  {
   "cell_type": "code",
   "execution_count": 2,
   "id": "c3037079-3313-4911-bb03-676f36873ee2",
   "metadata": {},
   "outputs": [],
   "source": [
    "import torch\n",
    "import torch.nn.functional as F\n",
    "from torch_geometric.nn import GCNConv, MLP\n",
    "from torch_geometric.utils import scatter\n",
    "\n",
    "class GCN(torch.nn.Module):\n",
    "    def __init__(self, num_node_features, num_hidden_features):\n",
    "        super().__init__()\n",
    "        self.conv1 = GCNConv(num_node_features, num_hidden_features)\n",
    "        self.conv2 = GCNConv(num_hidden_features, num_hidden_features)\n",
    "        self.readout = MLP([num_hidden_features, num_hidden_features*2, num_hidden_features*3, 1])\n",
    "\n",
    "    def forward(self, data):\n",
    "        x, edge_index = data.x, data.edge_index\n",
    "\n",
    "        x = self.conv1(x, edge_index)\n",
    "        x = F.relu(x)\n",
    "        x = F.dropout(x, training=self.training)\n",
    "        x = self.conv2(x, edge_index)\n",
    "        x = self.readout(x)\n",
    "        return scatter(x, data.batch, dim=0, reduce='mean').view(-1)"
   ]
  },
  {
   "cell_type": "code",
   "execution_count": 3,
   "id": "bccedb25-84b4-49c9-aa27-2c6c665992e7",
   "metadata": {},
   "outputs": [],
   "source": [
    "device = torch.device('cuda' if torch.cuda.is_available() else 'cpu')\n",
    "model = Petri_Cheb_GNN(train_dataset.num_features, 16, 3)\n",
    "model = torch.compile(model, dynamic=True)\n",
    "optimizer = torch.optim.Adam(model.parameters(), lr=0.01, weight_decay=5e-4)"
   ]
  },
  {
   "cell_type": "code",
   "execution_count": 4,
   "id": "eee0f2e0-40fc-4bd8-91e3-7fd95b7d0314",
   "metadata": {},
   "outputs": [
    {
     "data": {
      "application/vnd.jupyter.widget-view+json": {
       "model_id": "d1d79bfd2b1f4f5c8254abd43adbf785",
       "version_major": 2,
       "version_minor": 0
      },
      "text/plain": [
       "  0%|          | 0/100 [00:00<?, ?it/s]"
      ]
     },
     "metadata": {},
     "output_type": "display_data"
    }
   ],
   "source": [
    "model.train()\n",
    "for epoch in trange(100):\n",
    "    for graph in train_dataset:\n",
    "        optimizer.zero_grad()\n",
    "        out = torch.flatten(model(graph))\n",
    "        loss = F.l1_loss(out, graph.y)\n",
    "        loss.backward()\n",
    "        optimizer.step()"
   ]
  },
  {
   "cell_type": "code",
   "execution_count": 5,
   "id": "00400198-57c5-4b3a-a9f9-b4d420c9b436",
   "metadata": {},
   "outputs": [
    {
     "name": "stdout",
     "output_type": "stream",
     "text": [
      "MAE: 0.6327988505363464\n",
      "MRE: 0.6862345933914185\n"
     ]
    }
   ],
   "source": [
    "model.eval()\n",
    "pred = []\n",
    "actual = torch.tensor([graph.y for graph in test_dataset.dataset])\n",
    "for graph in test_dataset:\n",
    "    pred.extend(model(graph).tolist())\n",
    "\n",
    "pred = torch.tensor(pred)\n",
    "pred = torch.flatten(pred)\n",
    "\n",
    "print(f'MAE: {F.l1_loss(pred, actual)}')\n",
    "print(f'MRE: {torch.nn.MSELoss()(pred, actual)}')"
   ]
  }
 ],
 "metadata": {
  "kernelspec": {
   "display_name": "Python 3 (ipykernel)",
   "language": "python",
   "name": "python3"
  },
  "language_info": {
   "codemirror_mode": {
    "name": "ipython",
    "version": 3
   },
   "file_extension": ".py",
   "mimetype": "text/x-python",
   "name": "python",
   "nbconvert_exporter": "python",
   "pygments_lexer": "ipython3",
   "version": "3.11.9"
  }
 },
 "nbformat": 4,
 "nbformat_minor": 5
}
