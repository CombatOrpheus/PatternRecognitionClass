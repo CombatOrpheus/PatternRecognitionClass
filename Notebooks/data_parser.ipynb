{
 "cells": [
  {
   "cell_type": "markdown",
   "id": "6f581f6f-639f-444c-8483-935357a15bde",
   "metadata": {},
   "source": [
    "# Parsing the Data\n",
    "The data set is available in a JSON format, in both original and pre-processed formats. Since my needs are different from that of the original authors, I'll be using the original data. The data is organised as follows:\n",
    "- `data{index}`\n",
    "  - **petri_net**: A compound matrix $[I; O; M_0]$ representing the Petri Net; for a Petri Net with $N$ transitions, the compound matrix will have a length of $N*2 + 1$.\n",
    "  - **arr_vlist**: The reachable markings of this Petri Net.\n",
    "  - **arr_edge**: The edges (source, destination) for the reachable markings.\n",
    "  - **arr_tranidx**: The transition that fired, leading to the creation of a new marking.\n",
    "  - **spn_labda**: The $\\lambda$ (average firing rate) of the transition.\n",
    "  - **spn_steadyprob**: The steady probability distribution of the Petri Net.\n",
    "  - **spn_markdens**: The token probability density function of the Petri Net.\n",
    "  - **spn_mu**: The average number of tokens in the network in the steady state.\n",
    "\n",
    "For my purposes, only the first four data points are of interest, so I'll extract them."
   ]
  }
 ],
 "metadata": {
  "kernelspec": {
   "display_name": "Python 3 (ipykernel)",
   "language": "python",
   "name": "python3"
  },
  "language_info": {
   "codemirror_mode": {
    "name": "ipython",
    "version": 3
   },
   "file_extension": ".py",
   "mimetype": "text/x-python",
   "name": "python",
   "nbconvert_exporter": "python",
   "pygments_lexer": "ipython3",
   "version": "3.11.9"
  }
 },
 "nbformat": 4,
 "nbformat_minor": 5
}
