{
 "cells": [
  {
   "cell_type": "code",
   "execution_count": null,
   "id": "24d8eb8e-c0d0-4a95-9f5d-aab9dde8e6ff",
   "metadata": {},
   "outputs": [],
   "source": [
    "%%time\n",
    "import src\n",
    "from pathlib import Path\n",
    "from itertools import product\n",
    "from functools import partial\n",
    "\n",
    "from tqdm.notebook import trange, tqdm\n",
    "\n",
    "from src import Petri_Cheb_GNN, Petri_GCN\n",
    "\n",
    "batch_size = 64\n",
    "train_dataset = src.get_reachability_dataset(Path('Data/RandData_DS1_train_data.processed'), batch_size=batch_size)\n",
    "test_dataset = src.get_reachability_dataset(Path('Data/RandData_DS1_test_data.processed'), batch_size=batch_size)"
   ]
  },
  {
   "cell_type": "code",
   "execution_count": null,
   "id": "c3037079-3313-4911-bb03-676f36873ee2",
   "metadata": {},
   "outputs": [],
   "source": [
    "import torch\n",
    "import torch.nn.functional as F\n",
    "from torch_geometric.nn import GCNConv, MLP\n",
    "from torch_geometric.utils import scatter\n",
    "\n",
    "class GCN(torch.nn.Module):\n",
    "    def __init__(self, num_node_features, num_hidden_features):\n",
    "        super().__init__()\n",
    "        self.conv1 = GCNConv(num_node_features, num_hidden_features)\n",
    "        self.conv2 = GCNConv(num_hidden_features, num_hidden_features)\n",
    "        self.readout = MLP([num_hidden_features, num_hidden_features*2, num_hidden_features*3, 1])\n",
    "\n",
    "    def forward(self, data):\n",
    "        x, edge_index = data.x, data.edge_index\n",
    "\n",
    "        x = self.conv1(x, edge_index)\n",
    "        x = F.relu(x)\n",
    "        x = F.dropout(x, training=self.training)\n",
    "        x = self.conv2(x, edge_index)\n",
    "        x = self.readout(x)\n",
    "        return scatter(x, data.batch, dim=0, reduce='mean').view(-1)"
   ]
  },
  {
   "cell_type": "code",
   "execution_count": null,
   "id": "bccedb25-84b4-49c9-aa27-2c6c665992e7",
   "metadata": {},
   "outputs": [],
   "source": [
    "device = torch.device('cuda' if torch.cuda.is_available() else 'cpu')"
   ]
  },
  {
   "cell_type": "code",
   "execution_count": null,
   "id": "eee0f2e0-40fc-4bd8-91e3-7fd95b7d0314",
   "metadata": {},
   "outputs": [],
   "source": [
    "def train(model, optimizer):\n",
    "    model.train()\n",
    "    for epoch in tqdm(range(100), leave=False):\n",
    "        for graph in train_dataset:\n",
    "            optimizer.zero_grad()\n",
    "            out = torch.flatten(model(graph))\n",
    "            loss = F.l1_loss(out, graph.y)\n",
    "            loss.backward()\n",
    "            optimizer.step()"
   ]
  },
  {
   "cell_type": "code",
   "execution_count": null,
   "id": "00400198-57c5-4b3a-a9f9-b4d420c9b436",
   "metadata": {},
   "outputs": [],
   "source": [
    "def test(model):\n",
    "    model.eval()\n",
    "    pred = []\n",
    "    actual = torch.tensor([graph.y for graph in test_dataset.dataset])\n",
    "    for graph in test_dataset:\n",
    "        pred.extend(model(graph).tolist())\n",
    "    \n",
    "    pred = torch.tensor(pred)\n",
    "    pred = torch.flatten(pred)\n",
    "\n",
    "    mre = torch.mean(F.l1_loss(pred, actual, reduction='none') / actual) * 100\n",
    "    return F.l1_loss(pred, actual), torch.nn.MSELoss()(pred, actual), mre"
   ]
  },
  {
   "cell_type": "code",
   "execution_count": null,
   "id": "4102ab18-d62d-4863-966b-4a2d5726661f",
   "metadata": {},
   "outputs": [],
   "source": [
    "def run_scenario(create_model, scenario, compile=False):\n",
    "    values = []\n",
    "    for i in trange(30, leave=False, desc=scenario):\n",
    "        model = create_model()\n",
    "        if compile:\n",
    "            model = torch.compile(model, dynamic=True)\n",
    "        optimizer = torch.optim.Adam(model.parameters(), lr=0.01, weight_decay=5e-4)\n",
    "        train(model, optimizer)\n",
    "        values.append(test(model))\n",
    "    values = torch.tensor(values)\n",
    "    return values"
   ]
  },
  {
   "cell_type": "code",
   "execution_count": null,
   "id": "be87ff5d-1d59-4110-b7f9-f44f9934efb1",
   "metadata": {},
   "outputs": [],
   "source": [
    "def variance(sample):\n",
    "    return torch.mean((sample - torch.mean(sample))**2)\n",
    "\n",
    "def std_deviation(sample):\n",
    "    return variance(sample)**2"
   ]
  },
  {
   "cell_type": "code",
   "execution_count": null,
   "id": "a41941d9-d57b-483b-8ba5-6e4f648fa5b3",
   "metadata": {},
   "outputs": [],
   "source": [
    "GNN_layers = range(2, 11)\n",
    "MLP_layers = range(2, 6)\n",
    "pairs = list(product(GNN_layers, MLP_layers))\n",
    "GNN_Operators = [(\"GCN\", Petri_GCN), (\"Chebyshev\", Petri_Cheb_GNN)]\n",
    "results = []\n",
    "for (name, operator), layers in tqdm(list(product(GNN_Operators, pairs))):\n",
    "    scenario = f'{name}, {layers[0]} GNN layers, {layers[1]} readout layers'\n",
    "    f = lambda: operator(train_dataset.num_features, 16, num_layers=layers[0], readout_layers=layers[1])\n",
    "    scenario_result = run_scenario(f, scenario)\n",
    "    results.append((scenario, scenario_result))"
   ]
  }
 ],
 "metadata": {
  "kernelspec": {
   "display_name": "Python 3 (ipykernel)",
   "language": "python",
   "name": "python3"
  },
  "language_info": {
   "codemirror_mode": {
    "name": "ipython",
    "version": 3
   },
   "file_extension": ".py",
   "mimetype": "text/x-python",
   "name": "python",
   "nbconvert_exporter": "python",
   "pygments_lexer": "ipython3",
   "version": "3.11.9"
  }
 },
 "nbformat": 4,
 "nbformat_minor": 5
}
