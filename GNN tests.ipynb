{
 "cells": [
  {
   "cell_type": "code",
   "execution_count": 1,
   "id": "24d8eb8e-c0d0-4a95-9f5d-aab9dde8e6ff",
   "metadata": {},
   "outputs": [
    {
     "name": "stdout",
     "output_type": "stream",
     "text": [
      "CPU times: user 2.28 s, sys: 1.01 s, total: 3.29 s\n",
      "Wall time: 2.57 s\n"
     ]
    }
   ],
   "source": [
    "%%time\n",
    "import src\n",
    "from pathlib import Path\n",
    "from tqdm.notebook import trange, tqdm\n",
    "from src import Petri_Cheb_GNN, Petri_GCN\n",
    "\n",
    "batch_size = 64\n",
    "train_dataset = src.get_reachability_dataset(Path('Data/RandData_DS1_train_data.processed'), batch_size=batch_size)\n",
    "test_dataset = src.get_reachability_dataset(Path('Data/RandData_DS1_test_data.processed'), batch_size=batch_size)"
   ]
  },
  {
   "cell_type": "code",
   "execution_count": 2,
   "id": "c3037079-3313-4911-bb03-676f36873ee2",
   "metadata": {},
   "outputs": [],
   "source": [
    "import torch\n",
    "import torch.nn.functional as F\n",
    "from torch_geometric.nn import GCNConv, MLP\n",
    "from torch_geometric.utils import scatter\n",
    "\n",
    "class GCN(torch.nn.Module):\n",
    "    def __init__(self, num_node_features, num_hidden_features):\n",
    "        super().__init__()\n",
    "        self.conv1 = GCNConv(num_node_features, num_hidden_features)\n",
    "        self.conv2 = GCNConv(num_hidden_features, num_hidden_features)\n",
    "        self.readout = MLP([num_hidden_features, num_hidden_features*2, num_hidden_features*3, 1])\n",
    "\n",
    "    def forward(self, data):\n",
    "        x, edge_index = data.x, data.edge_index\n",
    "\n",
    "        x = self.conv1(x, edge_index)\n",
    "        x = F.relu(x)\n",
    "        x = F.dropout(x, training=self.training)\n",
    "        x = self.conv2(x, edge_index)\n",
    "        x = self.readout(x)\n",
    "        return scatter(x, data.batch, dim=0, reduce='mean').view(-1)"
   ]
  },
  {
   "cell_type": "code",
   "execution_count": 3,
   "id": "bccedb25-84b4-49c9-aa27-2c6c665992e7",
   "metadata": {},
   "outputs": [],
   "source": [
    "device = torch.device('cuda' if torch.cuda.is_available() else 'cpu')"
   ]
  },
  {
   "cell_type": "code",
   "execution_count": 4,
   "id": "eee0f2e0-40fc-4bd8-91e3-7fd95b7d0314",
   "metadata": {},
   "outputs": [],
   "source": [
    "def train():\n",
    "    model.train()\n",
    "    for epoch in tqdm(range(100), leave=False):\n",
    "        for graph in train_dataset:\n",
    "            optimizer.zero_grad()\n",
    "            out = torch.flatten(model(graph))\n",
    "            loss = F.l1_loss(out, graph.y)\n",
    "            loss.backward()\n",
    "            optimizer.step()"
   ]
  },
  {
   "cell_type": "code",
   "execution_count": 5,
   "id": "00400198-57c5-4b3a-a9f9-b4d420c9b436",
   "metadata": {},
   "outputs": [],
   "source": [
    "def test():\n",
    "    model.eval()\n",
    "    pred = []\n",
    "    actual = torch.tensor([graph.y for graph in test_dataset.dataset])\n",
    "    for graph in test_dataset:\n",
    "        pred.extend(model(graph).tolist())\n",
    "    \n",
    "    pred = torch.tensor(pred)\n",
    "    pred = torch.flatten(pred)\n",
    "\n",
    "    mre = torch.mean(F.l1_loss(pred, actual, reduction='none') / actual) * 100\n",
    "    return F.l1_loss(pred, actual), torch.nn.MSELoss()(pred, actual), mre"
   ]
  },
  {
   "cell_type": "code",
   "execution_count": 6,
   "id": "4102ab18-d62d-4863-966b-4a2d5726661f",
   "metadata": {},
   "outputs": [
    {
     "data": {
      "application/vnd.jupyter.widget-view+json": {
       "model_id": "ed48e9752e17427d9229224fb1b9527f",
       "version_major": 2,
       "version_minor": 0
      },
      "text/plain": [
       "  0%|          | 0/30 [00:00<?, ?it/s]"
      ]
     },
     "metadata": {},
     "output_type": "display_data"
    },
    {
     "data": {
      "application/vnd.jupyter.widget-view+json": {
       "model_id": "",
       "version_major": 2,
       "version_minor": 0
      },
      "text/plain": [
       "  0%|          | 0/100 [00:00<?, ?it/s]"
      ]
     },
     "metadata": {},
     "output_type": "display_data"
    },
    {
     "data": {
      "application/vnd.jupyter.widget-view+json": {
       "model_id": "",
       "version_major": 2,
       "version_minor": 0
      },
      "text/plain": [
       "  0%|          | 0/100 [00:00<?, ?it/s]"
      ]
     },
     "metadata": {},
     "output_type": "display_data"
    },
    {
     "data": {
      "application/vnd.jupyter.widget-view+json": {
       "model_id": "",
       "version_major": 2,
       "version_minor": 0
      },
      "text/plain": [
       "  0%|          | 0/100 [00:00<?, ?it/s]"
      ]
     },
     "metadata": {},
     "output_type": "display_data"
    },
    {
     "data": {
      "application/vnd.jupyter.widget-view+json": {
       "model_id": "",
       "version_major": 2,
       "version_minor": 0
      },
      "text/plain": [
       "  0%|          | 0/100 [00:00<?, ?it/s]"
      ]
     },
     "metadata": {},
     "output_type": "display_data"
    },
    {
     "data": {
      "application/vnd.jupyter.widget-view+json": {
       "model_id": "",
       "version_major": 2,
       "version_minor": 0
      },
      "text/plain": [
       "  0%|          | 0/100 [00:00<?, ?it/s]"
      ]
     },
     "metadata": {},
     "output_type": "display_data"
    },
    {
     "data": {
      "application/vnd.jupyter.widget-view+json": {
       "model_id": "",
       "version_major": 2,
       "version_minor": 0
      },
      "text/plain": [
       "  0%|          | 0/100 [00:00<?, ?it/s]"
      ]
     },
     "metadata": {},
     "output_type": "display_data"
    },
    {
     "data": {
      "application/vnd.jupyter.widget-view+json": {
       "model_id": "",
       "version_major": 2,
       "version_minor": 0
      },
      "text/plain": [
       "  0%|          | 0/100 [00:00<?, ?it/s]"
      ]
     },
     "metadata": {},
     "output_type": "display_data"
    },
    {
     "data": {
      "application/vnd.jupyter.widget-view+json": {
       "model_id": "",
       "version_major": 2,
       "version_minor": 0
      },
      "text/plain": [
       "  0%|          | 0/100 [00:00<?, ?it/s]"
      ]
     },
     "metadata": {},
     "output_type": "display_data"
    },
    {
     "data": {
      "application/vnd.jupyter.widget-view+json": {
       "model_id": "",
       "version_major": 2,
       "version_minor": 0
      },
      "text/plain": [
       "  0%|          | 0/100 [00:00<?, ?it/s]"
      ]
     },
     "metadata": {},
     "output_type": "display_data"
    },
    {
     "data": {
      "application/vnd.jupyter.widget-view+json": {
       "model_id": "",
       "version_major": 2,
       "version_minor": 0
      },
      "text/plain": [
       "  0%|          | 0/100 [00:00<?, ?it/s]"
      ]
     },
     "metadata": {},
     "output_type": "display_data"
    },
    {
     "data": {
      "application/vnd.jupyter.widget-view+json": {
       "model_id": "",
       "version_major": 2,
       "version_minor": 0
      },
      "text/plain": [
       "  0%|          | 0/100 [00:00<?, ?it/s]"
      ]
     },
     "metadata": {},
     "output_type": "display_data"
    },
    {
     "data": {
      "application/vnd.jupyter.widget-view+json": {
       "model_id": "",
       "version_major": 2,
       "version_minor": 0
      },
      "text/plain": [
       "  0%|          | 0/100 [00:00<?, ?it/s]"
      ]
     },
     "metadata": {},
     "output_type": "display_data"
    },
    {
     "data": {
      "application/vnd.jupyter.widget-view+json": {
       "model_id": "",
       "version_major": 2,
       "version_minor": 0
      },
      "text/plain": [
       "  0%|          | 0/100 [00:00<?, ?it/s]"
      ]
     },
     "metadata": {},
     "output_type": "display_data"
    },
    {
     "data": {
      "application/vnd.jupyter.widget-view+json": {
       "model_id": "",
       "version_major": 2,
       "version_minor": 0
      },
      "text/plain": [
       "  0%|          | 0/100 [00:00<?, ?it/s]"
      ]
     },
     "metadata": {},
     "output_type": "display_data"
    },
    {
     "data": {
      "application/vnd.jupyter.widget-view+json": {
       "model_id": "",
       "version_major": 2,
       "version_minor": 0
      },
      "text/plain": [
       "  0%|          | 0/100 [00:00<?, ?it/s]"
      ]
     },
     "metadata": {},
     "output_type": "display_data"
    },
    {
     "data": {
      "application/vnd.jupyter.widget-view+json": {
       "model_id": "",
       "version_major": 2,
       "version_minor": 0
      },
      "text/plain": [
       "  0%|          | 0/100 [00:00<?, ?it/s]"
      ]
     },
     "metadata": {},
     "output_type": "display_data"
    },
    {
     "data": {
      "application/vnd.jupyter.widget-view+json": {
       "model_id": "",
       "version_major": 2,
       "version_minor": 0
      },
      "text/plain": [
       "  0%|          | 0/100 [00:00<?, ?it/s]"
      ]
     },
     "metadata": {},
     "output_type": "display_data"
    },
    {
     "data": {
      "application/vnd.jupyter.widget-view+json": {
       "model_id": "",
       "version_major": 2,
       "version_minor": 0
      },
      "text/plain": [
       "  0%|          | 0/100 [00:00<?, ?it/s]"
      ]
     },
     "metadata": {},
     "output_type": "display_data"
    },
    {
     "data": {
      "application/vnd.jupyter.widget-view+json": {
       "model_id": "",
       "version_major": 2,
       "version_minor": 0
      },
      "text/plain": [
       "  0%|          | 0/100 [00:00<?, ?it/s]"
      ]
     },
     "metadata": {},
     "output_type": "display_data"
    },
    {
     "data": {
      "application/vnd.jupyter.widget-view+json": {
       "model_id": "",
       "version_major": 2,
       "version_minor": 0
      },
      "text/plain": [
       "  0%|          | 0/100 [00:00<?, ?it/s]"
      ]
     },
     "metadata": {},
     "output_type": "display_data"
    },
    {
     "data": {
      "application/vnd.jupyter.widget-view+json": {
       "model_id": "",
       "version_major": 2,
       "version_minor": 0
      },
      "text/plain": [
       "  0%|          | 0/100 [00:00<?, ?it/s]"
      ]
     },
     "metadata": {},
     "output_type": "display_data"
    },
    {
     "data": {
      "application/vnd.jupyter.widget-view+json": {
       "model_id": "",
       "version_major": 2,
       "version_minor": 0
      },
      "text/plain": [
       "  0%|          | 0/100 [00:00<?, ?it/s]"
      ]
     },
     "metadata": {},
     "output_type": "display_data"
    },
    {
     "data": {
      "application/vnd.jupyter.widget-view+json": {
       "model_id": "",
       "version_major": 2,
       "version_minor": 0
      },
      "text/plain": [
       "  0%|          | 0/100 [00:00<?, ?it/s]"
      ]
     },
     "metadata": {},
     "output_type": "display_data"
    },
    {
     "data": {
      "application/vnd.jupyter.widget-view+json": {
       "model_id": "",
       "version_major": 2,
       "version_minor": 0
      },
      "text/plain": [
       "  0%|          | 0/100 [00:00<?, ?it/s]"
      ]
     },
     "metadata": {},
     "output_type": "display_data"
    },
    {
     "data": {
      "application/vnd.jupyter.widget-view+json": {
       "model_id": "",
       "version_major": 2,
       "version_minor": 0
      },
      "text/plain": [
       "  0%|          | 0/100 [00:00<?, ?it/s]"
      ]
     },
     "metadata": {},
     "output_type": "display_data"
    },
    {
     "data": {
      "application/vnd.jupyter.widget-view+json": {
       "model_id": "",
       "version_major": 2,
       "version_minor": 0
      },
      "text/plain": [
       "  0%|          | 0/100 [00:00<?, ?it/s]"
      ]
     },
     "metadata": {},
     "output_type": "display_data"
    },
    {
     "data": {
      "application/vnd.jupyter.widget-view+json": {
       "model_id": "",
       "version_major": 2,
       "version_minor": 0
      },
      "text/plain": [
       "  0%|          | 0/100 [00:00<?, ?it/s]"
      ]
     },
     "metadata": {},
     "output_type": "display_data"
    },
    {
     "data": {
      "application/vnd.jupyter.widget-view+json": {
       "model_id": "",
       "version_major": 2,
       "version_minor": 0
      },
      "text/plain": [
       "  0%|          | 0/100 [00:00<?, ?it/s]"
      ]
     },
     "metadata": {},
     "output_type": "display_data"
    },
    {
     "data": {
      "application/vnd.jupyter.widget-view+json": {
       "model_id": "",
       "version_major": 2,
       "version_minor": 0
      },
      "text/plain": [
       "  0%|          | 0/100 [00:00<?, ?it/s]"
      ]
     },
     "metadata": {},
     "output_type": "display_data"
    },
    {
     "data": {
      "application/vnd.jupyter.widget-view+json": {
       "model_id": "",
       "version_major": 2,
       "version_minor": 0
      },
      "text/plain": [
       "  0%|          | 0/100 [00:00<?, ?it/s]"
      ]
     },
     "metadata": {},
     "output_type": "display_data"
    }
   ],
   "source": [
    "values = []\n",
    "for i in trange(30):\n",
    "    model = Petri_Cheb_GNN(train_dataset.num_features, 16, 3)\n",
    "    # model = torch.compile(model, dynamic=True)\n",
    "    optimizer = torch.optim.Adam(model.parameters(), lr=0.01, weight_decay=5e-4)\n",
    "    train()\n",
    "    values.append(test())\n",
    "values = torch.tensor(values)"
   ]
  },
  {
   "cell_type": "code",
   "execution_count": 7,
   "id": "be87ff5d-1d59-4110-b7f9-f44f9934efb1",
   "metadata": {},
   "outputs": [],
   "source": [
    "def variance(sample):\n",
    "    return torch.mean((sample - torch.mean(sample))**2)\n",
    "\n",
    "def std_deviation(sample):\n",
    "    return variance(sample)**2"
   ]
  },
  {
   "cell_type": "code",
   "execution_count": 10,
   "id": "5fac0e51-ec25-4402-9b31-d6637796af17",
   "metadata": {},
   "outputs": [
    {
     "name": "stdout",
     "output_type": "stream",
     "text": [
      "MAE Mean: 0.21426576375961304\n",
      "MSE Mean: 0.07458734512329102\n",
      "MRE Mean: 6.119755268096924\n",
      "MAE Standard Deviation: 2.563876364547468e-07\n",
      "MSE Standard Deviation: 9.524162436491679e-08\n",
      "MRE Standard Deviation: 0.18180827796459198\n",
      "MAE Variance: 0.0005063473363406956\n",
      "MSE Variance: 0.00030861241975799203\n",
      "MRE Variance: 0.42638981342315674\n"
     ]
    }
   ],
   "source": [
    "print(f\"MAE Mean: {torch.mean(values[:, 0])}\")\n",
    "print(f\"MSE Mean: {torch.mean(values[:, 1])}\")\n",
    "print(f\"MRE Mean: {torch.mean(values[:, 2])}\")\n",
    "\n",
    "print(f\"MAE Standard Deviation: {std_deviation(values[:, 0])}\")\n",
    "print(f\"MSE Standard Deviation: {std_deviation(values[:, 1])}\")\n",
    "print(f\"MRE Standard Deviation: {std_deviation(values[:, 2])}\")\n",
    "\n",
    "print(f\"MAE Variance: {variance(values[:, 0])}\")\n",
    "print(f\"MSE Variance: {variance(values[:, 1])}\")\n",
    "print(f\"MRE Variance: {variance(values[:, 2])}\")"
   ]
  },
  {
   "cell_type": "code",
   "execution_count": 9,
   "id": "50173362-116b-44ca-a59e-f2e93c1a4ebb",
   "metadata": {},
   "outputs": [
    {
     "data": {
      "text/plain": [
       "tensor([[0.2026, 0.0641, 5.7791],\n",
       "        [0.2148, 0.0747, 6.0652],\n",
       "        [0.2259, 0.0803, 6.3969],\n",
       "        [0.1912, 0.0568, 5.5027],\n",
       "        [0.2000, 0.0624, 5.7379],\n",
       "        [0.2210, 0.0788, 6.2402],\n",
       "        [0.2533, 0.1008, 7.1511],\n",
       "        [0.1924, 0.0595, 5.6395],\n",
       "        [0.2467, 0.0967, 6.9713],\n",
       "        [0.2136, 0.0727, 6.0559],\n",
       "        [0.1945, 0.0589, 5.5627],\n",
       "        [0.2019, 0.0641, 5.7964],\n",
       "        [0.1949, 0.0604, 5.6934],\n",
       "        [0.2270, 0.0813, 6.4302],\n",
       "        [0.2127, 0.0729, 6.0328],\n",
       "        [0.2277, 0.0870, 6.4218],\n",
       "        [0.1909, 0.0591, 5.4714],\n",
       "        [0.1987, 0.0623, 5.6809],\n",
       "        [0.2069, 0.0720, 5.8743],\n",
       "        [0.2904, 0.1426, 8.6574],\n",
       "        [0.1834, 0.0505, 5.3636],\n",
       "        [0.2185, 0.0779, 6.2053],\n",
       "        [0.1944, 0.0699, 5.5733],\n",
       "        [0.2229, 0.0805, 6.3175],\n",
       "        [0.2459, 0.0954, 6.9390],\n",
       "        [0.2292, 0.0828, 6.4881],\n",
       "        [0.1940, 0.0596, 5.5655],\n",
       "        [0.2150, 0.0746, 6.1138],\n",
       "        [0.2135, 0.0726, 6.0458],\n",
       "        [0.2043, 0.0665, 5.8196]])"
      ]
     },
     "execution_count": 9,
     "metadata": {},
     "output_type": "execute_result"
    }
   ],
   "source": [
    "values"
   ]
  }
 ],
 "metadata": {
  "kernelspec": {
   "display_name": "Python 3 (ipykernel)",
   "language": "python",
   "name": "python3"
  },
  "language_info": {
   "codemirror_mode": {
    "name": "ipython",
    "version": 3
   },
   "file_extension": ".py",
   "mimetype": "text/x-python",
   "name": "python",
   "nbconvert_exporter": "python",
   "pygments_lexer": "ipython3",
   "version": "3.11.9"
  }
 },
 "nbformat": 4,
 "nbformat_minor": 5
}
