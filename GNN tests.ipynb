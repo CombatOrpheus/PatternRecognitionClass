{
 "cells": [
  {
   "cell_type": "code",
   "execution_count": null,
   "id": "24d8eb8e-c0d0-4a95-9f5d-aab9dde8e6ff",
   "metadata": {},
   "outputs": [],
   "source": [
    "import src\n",
    "from pathlib import Path\n",
    "from itertools import repeat\n",
    "\n",
    "import torch\n",
    "from torch.nn import functional as F\n",
    "from tqdm.notebook import trange, tqdm\n",
    "\n",
    "from src import Petri_Cheb, Petri_GCN, Petri_SAGE\n",
    "\n",
    "batch_size = 64\n",
    "EPOCHS = 100\n",
    "train_dataset = src.get_reachability_dataset(Path('Data/RandData_DS1_train_data.processed'), batch_size=batch_size)\n",
    "test_dataset = src.get_reachability_dataset(Path('Data/RandData_DS1_test_data.processed'), batch_size=batch_size)"
   ]
  },
  {
   "cell_type": "code",
   "execution_count": null,
   "id": "bccedb25-84b4-49c9-aa27-2c6c665992e7",
   "metadata": {},
   "outputs": [],
   "source": [
    "device = torch.device('cuda' if torch.cuda.is_available() else 'cpu')"
   ]
  },
  {
   "cell_type": "code",
   "execution_count": null,
   "id": "eee0f2e0-40fc-4bd8-91e3-7fd95b7d0314",
   "metadata": {},
   "outputs": [],
   "source": [
    "def train(model, optimizer):\n",
    "    model.train()\n",
    "    for epoch in trange(EPOCHS, leave=False):\n",
    "        for graph in train_dataset:\n",
    "            optimizer.zero_grad()\n",
    "            out = torch.flatten(model(graph))\n",
    "            loss = F.l1_loss(out, graph.y)\n",
    "            loss.backward()\n",
    "            optimizer.step()"
   ]
  },
  {
   "cell_type": "code",
   "execution_count": null,
   "id": "00400198-57c5-4b3a-a9f9-b4d420c9b436",
   "metadata": {},
   "outputs": [],
   "source": [
    "def test(model):\n",
    "    model.eval()\n",
    "    pred = []\n",
    "    actual = torch.tensor([graph.y for graph in test_dataset.dataset])\n",
    "    for graph in test_dataset:\n",
    "        pred.extend(model(graph).tolist())\n",
    "    \n",
    "    pred = torch.tensor(pred)\n",
    "    pred = torch.flatten(pred)\n",
    "\n",
    "    mre = torch.mean(F.l1_loss(pred, actual, reduction='none') / actual) * 100\n",
    "    return F.l1_loss(pred, actual), torch.nn.MSELoss()(pred, actual), mre"
   ]
  },
  {
   "cell_type": "code",
   "execution_count": null,
   "id": "4102ab18-d62d-4863-966b-4a2d5726661f",
   "metadata": {},
   "outputs": [],
   "source": [
    "def run_scenario(create_model, scenario, compile=False):\n",
    "    values = []\n",
    "    for i in trange(30, leave=False, desc=scenario):\n",
    "        model = create_model()\n",
    "        if compile:\n",
    "            model = torch.compile(model, dynamic=True)\n",
    "        optimizer = torch.optim.Adam(model.parameters(), lr=0.01, weight_decay=5e-4)\n",
    "        train(model, optimizer)\n",
    "        values.append(test(model))\n",
    "    values = torch.tensor(values)\n",
    "    return values"
   ]
  },
  {
   "cell_type": "code",
   "execution_count": null,
   "id": "a41941d9-d57b-483b-8ba5-6e4f648fa5b3",
   "metadata": {},
   "outputs": [],
   "source": [
    "GNN_layers = 5\n",
    "MLP_layers = 2\n",
    "pairs = repeat((GNN_layers, MLP_layers))\n",
    "GNN_Operators = [(\"GCN\", Petri_GCN), (\"Chebyshev\", Petri_Cheb), (\"SAGE\", Petri_SAGE)]\n",
    "results = []\n",
    "for (name, operator), layers in tqdm(list(zip(GNN_Operators, pairs))):\n",
    "    scenario = f'{name}'\n",
    "    f = lambda: operator(train_dataset.num_features, 16, num_layers=layers[0], readout_layers=layers[1])\n",
    "    scenario_result = run_scenario(f, scenario)\n",
    "    results.append((scenario, scenario_result))"
   ]
  },
  {
   "cell_type": "code",
   "execution_count": null,
   "id": "70f2efe2-7f5c-4866-b633-eca13e279e50",
   "metadata": {},
   "outputs": [],
   "source": [
    "dir = Path('./results')\n",
    "if not dir.exists():\n",
    "    dir.mkdir()\n",
    "for scenario, result in results:\n",
    "    final_path = dir / f\"{scenario}.pt\"\n",
    "    torch.save(result, final_path)"
   ]
  },
  {
   "cell_type": "code",
   "execution_count": null,
   "id": "be87ff5d-1d59-4110-b7f9-f44f9934efb1",
   "metadata": {},
   "outputs": [],
   "source": [
    "def variance(sample):\n",
    "    return torch.mean((sample - torch.mean(sample))**2)\n",
    "\n",
    "def std_deviation(sample):\n",
    "    return variance(sample)**2\n",
    "\n",
    "def statistical_values(sample):\n",
    "    return torch.mean(sample), std_deviation(sample), variance(sample)"
   ]
  },
  {
   "cell_type": "code",
   "execution_count": null,
   "id": "ba152e9a-9027-43fa-a8c3-70e3c7d69672",
   "metadata": {},
   "outputs": [],
   "source": [
    "statistics = []\n",
    "for scenario, results in read_tensor_data():\n",
    "    mae = results[:, 0]\n",
    "    mse = results[:, 1]\n",
    "    mre = results[:, 2]\n",
    "    print(f\"Values for scenario: {scenario}\\n\")\n",
    "    print(\"MAE\\tMean: %.5f\\ts²: %.5f\\ts: %.5f\\n\".format(*statistical_values(mae)))\n",
    "    print(\"MSE\\tMean: %.5f\\ts²: %.5f\\ts: %.5f\\n\".format(*statistical_values(mae)))\n",
    "    print(\"MRE\\tMean: %.5f\\ts²: %.5f\\ts: %.5f\\n\".format(*statistical_values(mae)))\n",
    "    print(\"-\"*80)\n",
    "    statistics.append((scenario, list(map(statistical_values, [mae, mse, mre])))"
   ]
  }
 ],
 "metadata": {
  "kernelspec": {
   "display_name": "Python 3 (ipykernel)",
   "language": "python",
   "name": "python3"
  },
  "language_info": {
   "codemirror_mode": {
    "name": "ipython",
    "version": 3
   },
   "file_extension": ".py",
   "mimetype": "text/x-python",
   "name": "python",
   "nbconvert_exporter": "python",
   "pygments_lexer": "ipython3",
   "version": "3.11.9"
  }
 },
 "nbformat": 4,
 "nbformat_minor": 5
}
