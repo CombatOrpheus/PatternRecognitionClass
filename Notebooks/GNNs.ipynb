{
 "cells": [
  {
   "cell_type": "markdown",
   "id": "288b5bf2-4bff-4df4-a61d-2e4a90801113",
   "metadata": {},
   "source": [
    "# GNNs\n",
    "Similar to CNNs, which are able to exploit structural characteristics of images to improve their learning process, GNNs are suited for learning over *graph-like* data. Since Petri Nets carry essential information in their structure, using other models would not lead to useful results without some ingenious data engineering and feature extraction; GNNs allow for this process to be skipped almost entirely.\n",
    "\n",
    "## Creating a Hybrid System with GNNs\n",
    "For this project, we need to create a hybrid system, so using GNNs to learn and extract feature vectors from the Petri Nets is going to be the first step; these feature vectors can then be used by other models to infer characteristics from the original net. But first, we need to convert the data into a graph.\n",
    "\n",
    "# PyTorch Geometric (PyG)\n",
    "PyTorch Geometric is a framework atop PyTorch for the construction of GNN models: it provides several layers from literature, which can then be combined for the creation of a GNN. But first, we have to transform the data a structure that PyG accepts."
   ]
  },
  {
   "cell_type": "code",
   "execution_count": 1,
   "id": "487ce456-dbee-47f5-8a4e-9035ec116308",
   "metadata": {},
   "outputs": [],
   "source": [
    "import torch_geometric.data as pyg_data"
   ]
  },
  {
   "cell_type": "code",
   "execution_count": null,
   "id": "ddbb6200-27fa-4b36-b9c0-873bf6872b5a",
   "metadata": {},
   "outputs": [],
   "source": [
    "def get_homogeneous_data(Iterable):\n",
    "    data = pyg_data.Data"
   ]
  }
 ],
 "metadata": {
  "kernelspec": {
   "display_name": "Python 3 (ipykernel)",
   "language": "python",
   "name": "python3"
  },
  "language_info": {
   "codemirror_mode": {
    "name": "ipython",
    "version": 3
   },
   "file_extension": ".py",
   "mimetype": "text/x-python",
   "name": "python",
   "nbconvert_exporter": "python",
   "pygments_lexer": "ipython3",
   "version": "3.12.4"
  }
 },
 "nbformat": 4,
 "nbformat_minor": 5
}
