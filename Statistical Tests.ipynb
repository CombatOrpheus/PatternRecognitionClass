{
 "cells": [
  {
   "cell_type": "code",
   "execution_count": 1,
   "id": "c61d941e-2bdd-452f-a431-82292ceee2da",
   "metadata": {},
   "outputs": [],
   "source": [
    "from pathlib import Path\n",
    "from statistics import mean\n",
    "\n",
    "import torch\n",
    "import matplotlib.pyplot as plt\n",
    "import numpy as np\n",
    "import pandas as pd\n",
    "import scikit_posthocs as sp\n",
    "import scipy.stats as ss"
   ]
  },
  {
   "cell_type": "code",
   "execution_count": 2,
   "id": "650be855-6011-49aa-b55a-26805443a7e3",
   "metadata": {
    "scrolled": true
   },
   "outputs": [],
   "source": [
    "dir = Path('results/')\n",
    "files = dir.glob('*pt')\n",
    "results = [torch.load(file) for file in files]"
   ]
  },
  {
   "cell_type": "code",
   "execution_count": 3,
   "id": "3e644fb3-ea64-4214-9428-1b4ea7f05a80",
   "metadata": {},
   "outputs": [
    {
     "data": {
      "text/html": [
       "<div>\n",
       "<style scoped>\n",
       "    .dataframe tbody tr th:only-of-type {\n",
       "        vertical-align: middle;\n",
       "    }\n",
       "\n",
       "    .dataframe tbody tr th {\n",
       "        vertical-align: top;\n",
       "    }\n",
       "\n",
       "    .dataframe thead th {\n",
       "        text-align: right;\n",
       "    }\n",
       "</style>\n",
       "<table border=\"1\" class=\"dataframe\">\n",
       "  <thead>\n",
       "    <tr style=\"text-align: right;\">\n",
       "      <th></th>\n",
       "      <th>cv_fold</th>\n",
       "      <th>estimator</th>\n",
       "      <th>score</th>\n",
       "    </tr>\n",
       "  </thead>\n",
       "  <tbody>\n",
       "    <tr>\n",
       "      <th>0</th>\n",
       "      <td>0</td>\n",
       "      <td>GCN</td>\n",
       "      <td>0.361195</td>\n",
       "    </tr>\n",
       "    <tr>\n",
       "      <th>1</th>\n",
       "      <td>1</td>\n",
       "      <td>GCN</td>\n",
       "      <td>0.325927</td>\n",
       "    </tr>\n",
       "    <tr>\n",
       "      <th>2</th>\n",
       "      <td>2</td>\n",
       "      <td>GCN</td>\n",
       "      <td>0.298732</td>\n",
       "    </tr>\n",
       "    <tr>\n",
       "      <th>3</th>\n",
       "      <td>3</td>\n",
       "      <td>GCN</td>\n",
       "      <td>0.304619</td>\n",
       "    </tr>\n",
       "    <tr>\n",
       "      <th>4</th>\n",
       "      <td>4</td>\n",
       "      <td>GCN</td>\n",
       "      <td>0.267153</td>\n",
       "    </tr>\n",
       "    <tr>\n",
       "      <th>...</th>\n",
       "      <td>...</td>\n",
       "      <td>...</td>\n",
       "      <td>...</td>\n",
       "    </tr>\n",
       "    <tr>\n",
       "      <th>115</th>\n",
       "      <td>25</td>\n",
       "      <td>GraphConv</td>\n",
       "      <td>0.229843</td>\n",
       "    </tr>\n",
       "    <tr>\n",
       "      <th>116</th>\n",
       "      <td>26</td>\n",
       "      <td>GraphConv</td>\n",
       "      <td>0.227173</td>\n",
       "    </tr>\n",
       "    <tr>\n",
       "      <th>117</th>\n",
       "      <td>27</td>\n",
       "      <td>GraphConv</td>\n",
       "      <td>0.229699</td>\n",
       "    </tr>\n",
       "    <tr>\n",
       "      <th>118</th>\n",
       "      <td>28</td>\n",
       "      <td>GraphConv</td>\n",
       "      <td>0.227986</td>\n",
       "    </tr>\n",
       "    <tr>\n",
       "      <th>119</th>\n",
       "      <td>29</td>\n",
       "      <td>GraphConv</td>\n",
       "      <td>0.229423</td>\n",
       "    </tr>\n",
       "  </tbody>\n",
       "</table>\n",
       "<p>120 rows × 3 columns</p>\n",
       "</div>"
      ],
      "text/plain": [
       "     cv_fold  estimator     score\n",
       "0          0        GCN  0.361195\n",
       "1          1        GCN  0.325927\n",
       "2          2        GCN  0.298732\n",
       "3          3        GCN  0.304619\n",
       "4          4        GCN  0.267153\n",
       "..       ...        ...       ...\n",
       "115       25  GraphConv  0.229843\n",
       "116       26  GraphConv  0.227173\n",
       "117       27  GraphConv  0.229699\n",
       "118       28  GraphConv  0.227986\n",
       "119       29  GraphConv  0.229423\n",
       "\n",
       "[120 rows x 3 columns]"
      ]
     },
     "execution_count": 3,
     "metadata": {},
     "output_type": "execute_result"
    }
   ],
   "source": [
    "dict_data = {name: result[:, 0].numpy() for name, result in results}\n",
    "data = (\n",
    "  pd.DataFrame(dict_data)\n",
    "  .rename_axis('cv_fold')\n",
    "  .melt(\n",
    "      var_name='estimator',\n",
    "      value_name='score',\n",
    "      ignore_index=False,\n",
    "  )\n",
    "  .reset_index()\n",
    ")\n",
    "data"
   ]
  },
  {
   "cell_type": "code",
   "execution_count": 4,
   "id": "812dc7c0-1424-42f0-96ae-4630666faa91",
   "metadata": {},
   "outputs": [
    {
     "data": {
      "text/plain": [
       "estimator\n",
       "Chebyshev    0.583333\n",
       "GCN          0.616667\n",
       "GraphConv    0.958333\n",
       "SAGE         0.341667\n",
       "Name: score, dtype: float64"
      ]
     },
     "execution_count": 4,
     "metadata": {},
     "output_type": "execute_result"
    }
   ],
   "source": [
    "avg_rank = data.groupby('cv_fold').score.rank(pct=True, ascending=False).groupby(data.estimator).mean()\n",
    "avg_rank"
   ]
  },
  {
   "cell_type": "code",
   "execution_count": 5,
   "id": "2077ecb6-2c1b-45e8-9c8d-c320ee047dbb",
   "metadata": {},
   "outputs": [
    {
     "data": {
      "text/plain": [
       "FriedmanchisquareResult(statistic=55.639999999999986, pvalue=5.013791463585004e-12)"
      ]
     },
     "execution_count": 5,
     "metadata": {},
     "output_type": "execute_result"
    }
   ],
   "source": [
    "ss.friedmanchisquare(*dict_data.values())"
   ]
  },
  {
   "cell_type": "code",
   "execution_count": 9,
   "id": "c9e6c9cf-d11e-4ab3-943d-e08a4f8991d2",
   "metadata": {},
   "outputs": [
    {
     "data": {
      "image/png": "[encoded data removed]",
      "text/plain": [
       "<Figure size 600x600 with 2 Axes>"
      ]
     },
     "metadata": {},
     "output_type": "display_data"
    }
   ],
   "source": [
    "test_results = sp.posthoc_conover_friedman(\n",
    "    data,\n",
    "    melted=True,\n",
    "    block_col='cv_fold',\n",
    "    group_col='estimator',\n",
    "    y_col='score',\n",
    ")\n",
    "plt.figure(figsize=(6, 6), dpi=100)\n",
    "sp.sign_plot(test_results)"
   ]
  },
  {
   "cell_type": "code",
   "execution_count": 7,
   "id": "53138959-dfde-4a70-9d67-7ecd2aa0f93b",
   "metadata": {
    "scrolled": true
   },
   "outputs": [
    {
     "name": "stderr",
     "output_type": "stream",
     "text": [
      "/home/gsoliveira/anaconda3/envs/pattern-recognition/lib/python3.11/site-packages/numpy/core/fromnumeric.py:59: FutureWarning: 'Series.swapaxes' is deprecated and will be removed in a future version. Please use 'Series.transpose' instead.\n",
      "  return bound(*args, **kwds)\n"
     ]
    },
    {
     "data": {
      "image/png": "[encoded data removed]",
      "text/plain": [
       "<Figure size 1000x200 with 1 Axes>"
      ]
     },
     "metadata": {},
     "output_type": "display_data"
    }
   ],
   "source": [
    "plt.figure(figsize=(10, 2), dpi=100)\n",
    "# plt.title('Critical difference diagram of average score ranks')\n",
    "sp.critical_difference_diagram(avg_rank, test_results)\n",
    "plt.savefig('Critical diagram.png')"
   ]
  },
  {
   "cell_type": "code",
   "execution_count": 8,
   "id": "c1eaba69-dab3-4370-ba41-569df9c4842b",
   "metadata": {},
   "outputs": [
    {
     "name": "stderr",
     "output_type": "stream",
     "text": [
      "/home/gsoliveira/anaconda3/envs/pattern-recognition/lib/python3.11/site-packages/numpy/core/fromnumeric.py:59: FutureWarning: 'Series.swapaxes' is deprecated and will be removed in a future version. Please use 'Series.transpose' instead.\n",
      "  return bound(*args, **kwds)\n"
     ]
    },
    {
     "data": {
      "image/png": "[encoded data removed]",
      "text/plain": [
       "<Figure size 1200x200 with 1 Axes>"
      ]
     },
     "metadata": {},
     "output_type": "display_data"
    }
   ],
   "source": [
    "plt.figure(figsize=(12, 2), dpi=100)\n",
    "sp.critical_difference_diagram(\n",
    "    ranks=avg_rank,\n",
    "    sig_matrix=test_results,\n",
    "    label_fmt_left='{label} [{rank:.3f}]  ',\n",
    "    label_fmt_right='  [{rank:.3f}] {label}',\n",
    "    text_h_margin=0.3,\n",
    "    label_props={'color': 'black', 'fontweight': 'bold'},\n",
    "    crossbar_props={'color': None, 'marker': 'o'},\n",
    "    marker_props={'marker': 'o', 's': 50, 'color': 'y', 'edgecolor': 'k'},\n",
    "    elbow_props={'color': 'gray'},\n",
    ")\n",
    "plt.savefig('Critical diagram pretty.png')"
   ]
  }
 ],
 "metadata": {
  "kernelspec": {
   "display_name": "Python 3 (ipykernel)",
   "language": "python",
   "name": "python3"
  },
  "language_info": {
   "codemirror_mode": {
    "name": "ipython",
    "version": 3
   },
   "file_extension": ".py",
   "mimetype": "text/x-python",
   "name": "python",
   "nbconvert_exporter": "python",
   "pygments_lexer": "ipython3",
   "version": "3.11.9"
  }
 },
 "nbformat": 4,
 "nbformat_minor": 5
}
